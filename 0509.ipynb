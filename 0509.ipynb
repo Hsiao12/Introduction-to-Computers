{
  "nbformat": 4,
  "nbformat_minor": 0,
  "metadata": {
    "colab": {
      "name": "0509.ipynb",
      "provenance": [],
      "authorship_tag": "ABX9TyOhepulczQR9mknYJPnAmDm",
      "include_colab_link": true
    },
    "kernelspec": {
      "name": "python3",
      "display_name": "Python 3"
    },
    "language_info": {
      "name": "python"
    }
  },
  "cells": [
    {
      "cell_type": "markdown",
      "metadata": {
        "id": "view-in-github",
        "colab_type": "text"
      },
      "source": [
        "<a href=\"https://colab.research.google.com/github/Hsiao12/Introduction-to-Computers/blob/main/0509.ipynb\" target=\"_parent\"><img src=\"https://colab.research.google.com/assets/colab-badge.svg\" alt=\"Open In Colab\"/></a>"
      ]
    },
    {
      "cell_type": "code",
      "execution_count": 15,
      "metadata": {
        "colab": {
          "base_uri": "https://localhost:8080/"
        },
        "id": "SCCHo3ds7rxs",
        "outputId": "59a9776e-9796-4b74-d97b-692bf731a256"
      },
      "outputs": [
        {
          "output_type": "stream",
          "name": "stdout",
          "text": [
            "請輸入你的體溫:36\n",
            "體溫異常，請重新測量！\n"
          ]
        }
      ],
      "source": [
        "temp= float(input(\"請輸入你的體溫:\"))\n",
        "if temp >= 37.5 :\n",
        "    print(\"體溫過高！\")\n",
        "elif temp >=37 and temp < 37.4:\n",
        "    print(\"體溫略高！\")\n",
        "\n",
        "else :\n",
        "    print(\"體溫異常，請重新測量！\")"
      ]
    },
    {
      "cell_type": "code",
      "source": [
        "score=int(input(\"請輸入你的成績:\"))\n",
        "if score >=90 :\n",
        "    print(\"A\")\n",
        "elif score >=80 :\n",
        "    print(\"B\")\n",
        "elif score >=70 :\n",
        "    print(\"C\")\n",
        "elif score >=60:\n",
        "    print(\"D\")\n",
        "else:\n",
        "    print(\"E\")"
      ],
      "metadata": {
        "colab": {
          "base_uri": "https://localhost:8080/"
        },
        "id": "t6c2tNG0CjTC",
        "outputId": "4ab6e323-d64a-46a4-e953-c95614c0c8ff"
      },
      "execution_count": 16,
      "outputs": [
        {
          "output_type": "stream",
          "name": "stdout",
          "text": [
            "請輸入你的成績:60\n",
            "D\n"
          ]
        }
      ]
    },
    {
      "cell_type": "code",
      "source": [
        "money = int(input(\"請輸入購物金額:\"))\n",
        "if (money>=10000):\n",
        "  if(money>=100000):\n",
        "    print(\"八折\",money*0.8,end =\"元\\n\")\n",
        "  elif (money>=50000):\n",
        "       print(\"八五折\",money*0.85,end=\"元\\n\")\n",
        "  elif (money>=30000):\n",
        "       print(\"九折\",money*0.9,end=\"元\\n\") \n",
        "  elif (money>=10000):\n",
        "       print(\"九五折\",money*0.9,end=\"元\\n\")\n",
        "else:\n",
        "    print(\"沒打折\",money,\"元\\n\")"
      ],
      "metadata": {
        "colab": {
          "base_uri": "https://localhost:8080/"
        },
        "id": "x9sX7DFUE00a",
        "outputId": "7d4e895c-7d77-4e40-cb7e-bce0d2e7904a"
      },
      "execution_count": 14,
      "outputs": [
        {
          "output_type": "stream",
          "name": "stdout",
          "text": [
            "請輸入購物金額:50000\n",
            "八五折 42500.0元\n"
          ]
        }
      ]
    },
    {
      "cell_type": "code",
      "source": [
        "month=int(input(\"請輸入月份:\"))\n",
        "if month<=12:\n",
        "  if month >=3 and month<=5 :\n",
        "    print(month,str(\"月是春天\"))\n",
        "  elif month >=6 and month<=8 :\n",
        "    print(month,str(\"月是夏天\"))\n",
        "  elif month >=9 and month<=11 :\n",
        "    print(month,str(\"月是秋天\"))\n",
        "  else:\n",
        "    print(month,str(\"月是冬天\"))\n",
        "else:\n",
        "    print(\"月份不在範圍內\")"
      ],
      "metadata": {
        "colab": {
          "base_uri": "https://localhost:8080/"
        },
        "id": "mkmM4fvuInfD",
        "outputId": "dcb8738e-ffc8-42b5-ba28-2c73319cbe42"
      },
      "execution_count": 34,
      "outputs": [
        {
          "output_type": "stream",
          "name": "stdout",
          "text": [
            "請輸入月份:2\n",
            "2 月是冬天\n"
          ]
        }
      ]
    },
    {
      "cell_type": "code",
      "source": [
        "revenue = float(input(\"請輸入今年收入淨額:\"))\n",
        "if(revenue>=2000000):\n",
        "    print(\"付稅金額為:\",revenue*0.3,end =\"元\\n\")\n",
        "elif (revenue>1000000):\n",
        "       print(\"付稅金額為:\",revenue*0.21,end =\"元\\n\")\n",
        "elif (revenue>6000000):\n",
        "       print(\"付稅金額為:\",revenue*0.13,end =\"元\\n\") \n",
        "elif (revenue>3000000):\n",
        "       print(\"付稅金額為:\",revenue*0.06,end =\"元\\n\")\n",
        "else:\n",
        "    print(\"付稅金額為:0元\")"
      ],
      "metadata": {
        "colab": {
          "base_uri": "https://localhost:8080/"
        },
        "id": "-EgW-Eb5KAW9",
        "outputId": "d6b1cf26-e265-4f28-fa83-3668db8e1ce8"
      },
      "execution_count": 35,
      "outputs": [
        {
          "output_type": "stream",
          "name": "stdout",
          "text": [
            "請輸入今年收入淨額:2000000\n",
            "付稅金額為: 600000.0元\n"
          ]
        }
      ]
    }
  ]
}