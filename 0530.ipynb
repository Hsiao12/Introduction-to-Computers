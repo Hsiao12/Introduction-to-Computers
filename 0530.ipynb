{
  "nbformat": 4,
  "nbformat_minor": 0,
  "metadata": {
    "colab": {
      "name": "0530.ipynb",
      "provenance": [],
      "authorship_tag": "ABX9TyOAPvXR+dzxp9YTElsyHlm4",
      "include_colab_link": true
    },
    "kernelspec": {
      "name": "python3",
      "display_name": "Python 3"
    },
    "language_info": {
      "name": "python"
    }
  },
  "cells": [
    {
      "cell_type": "markdown",
      "metadata": {
        "id": "view-in-github",
        "colab_type": "text"
      },
      "source": [
        "<a href=\"https://colab.research.google.com/github/Hsiao12/Introduction-to-Computers/blob/main/0530.ipynb\" target=\"_parent\"><img src=\"https://colab.research.google.com/assets/colab-badge.svg\" alt=\"Open In Colab\"/></a>"
      ]
    },
    {
      "cell_type": "code",
      "execution_count": null,
      "metadata": {
        "id": "YHXvjy_8BLdJ",
        "colab": {
          "base_uri": "https://localhost:8080/"
        },
        "outputId": "e13ceed2-2454-4bed-9390-8e4d1f1f8a35"
      },
      "outputs": [
        {
          "output_type": "stream",
          "name": "stdout",
          "text": [
            "2*1= 22*2= 42*3= 62*4= 82*5=102*6=122*7=142*8=162*9=18\n",
            "3*1= 33*2= 63*3= 93*4=123*5=153*6=183*7=213*8=243*9=27\n",
            "4*1= 44*2= 84*3=124*4=164*5=204*6=244*7=284*8=324*9=36\n",
            "5*1= 55*2=105*3=155*4=205*5=255*6=305*7=355*8=405*9=45\n",
            "6*1= 66*2=126*3=186*4=246*5=306*6=366*7=426*8=486*9=54\n",
            "7*1= 77*2=147*3=217*4=287*5=357*6=427*7=497*8=567*9=63\n",
            "8*1= 88*2=168*3=248*4=328*5=408*6=488*7=568*8=648*9=72\n",
            "9*1= 99*2=189*3=279*4=369*5=459*6=549*7=639*8=729*9=81\n"
          ]
        }
      ],
      "source": [
        "for i in range(2,10):\n",
        "    for j in range(1,10):\n",
        "        product = i*j\n",
        "        print(\"%d*%d=%2d\" % (i,j,product),end=\"\")\n",
        "    print( )"
      ]
    },
    {
      "cell_type": "code",
      "source": [
        "a=int(input(\"請輸入a的值\"))\n",
        "b=int(input(\"請輸入b的值\"))\n",
        "\n",
        "maxno=a*b\n",
        "for i in range (1,maxno+1):\n",
        "    if(i%a==0 and i%b==0):\n",
        "      break\n",
        "print(\"%d和%d的最小公倍數=%d\" %(a,b,i))\n",
        "\n"
      ],
      "metadata": {
        "id": "zqTuGS_tBN3e",
        "colab": {
          "base_uri": "https://localhost:8080/"
        },
        "outputId": "6a267d25-5579-4299-cc4c-59c8ece7fe65"
      },
      "execution_count": null,
      "outputs": [
        {
          "output_type": "stream",
          "name": "stdout",
          "text": [
            "請輸入a的值4\n",
            "請輸入b的值6\n",
            "4和6的最小公倍數=12\n"
          ]
        }
      ]
    },
    {
      "cell_type": "code",
      "source": [
        "n=int(input(\"請輸入正整數\"))\n",
        "for i in range(1,n+1):\n",
        "    if i % 5 == 0:\n",
        "        continue\n",
        "    print(i,end=\" \")\n"
      ],
      "metadata": {
        "id": "uDKgFKQaBOAo",
        "colab": {
          "base_uri": "https://localhost:8080/"
        },
        "outputId": "bb05dafc-c792-41cb-9ed2-645c97762c35"
      },
      "execution_count": null,
      "outputs": [
        {
          "output_type": "stream",
          "name": "stdout",
          "text": [
            "請輸入正整數21\n",
            "1 2 3 4 6 7 8 9 11 12 13 14 16 17 18 19 21 "
          ]
        }
      ]
    },
    {
      "cell_type": "code",
      "source": [
        "total=n=0\n",
        "while (n<=10):\n",
        "    total+=n\n",
        "    n+=1\n",
        "print(total)"
      ],
      "metadata": {
        "id": "EcIG75y4BOLA",
        "colab": {
          "base_uri": "https://localhost:8080/"
        },
        "outputId": "2d13a08c-7a9f-4106-86da-80be82f88bc6"
      },
      "execution_count": null,
      "outputs": [
        {
          "output_type": "stream",
          "name": "stdout",
          "text": [
            "55\n"
          ]
        }
      ]
    },
    {
      "cell_type": "code",
      "source": [
        "total = i = 1\n",
        "n=int(input(\"請輸入正整數n的值:\"))\n",
        "while (i<=n):\n",
        "  total*=i\n",
        "  i+=1\n",
        "print(\"%d!=%d\" % (n,total))"
      ],
      "metadata": {
        "colab": {
          "base_uri": "https://localhost:8080/"
        },
        "id": "EgSsCo81IWU3",
        "outputId": "97e61819-c6fe-4be6-c985-e806840fa691"
      },
      "execution_count": null,
      "outputs": [
        {
          "output_type": "stream",
          "name": "stdout",
          "text": [
            "請輸入正整數n的值:100\n",
            "100!=93326215443944152681699238856266700490715968264381621468592963895217599993229915608941463976156518286253697920827223758251185210916864000000000000000000000000\n"
          ]
        }
      ]
    },
    {
      "cell_type": "code",
      "source": [
        "\n",
        "total=i=0\n",
        "while (i<=50 ):\n",
        "  total+=i\n",
        "  i+=2\n",
        "print(\"0~50的偶數和結果是\",total)"
      ],
      "metadata": {
        "colab": {
          "base_uri": "https://localhost:8080/"
        },
        "id": "VnfpLGW4IWhk",
        "outputId": "dcbcd9d3-0891-4213-bf87-7f2137e14258"
      },
      "execution_count": null,
      "outputs": [
        {
          "output_type": "stream",
          "name": "stdout",
          "text": [
            "0~50的偶數和結果是 650\n"
          ]
        }
      ]
    },
    {
      "cell_type": "code",
      "source": [
        "\n",
        "total=i=1\n",
        "while (i<50):\n",
        "    total+=i\n",
        "    i+=2\n",
        "print(\"0~50的奇數和結果是\",(total-1))"
      ],
      "metadata": {
        "colab": {
          "base_uri": "https://localhost:8080/"
        },
        "id": "UASbrpl4WeiT",
        "outputId": "1ea97c6a-ca1e-446a-9200-62a03dd2172c"
      },
      "execution_count": null,
      "outputs": [
        {
          "output_type": "stream",
          "name": "stdout",
          "text": [
            "0~50的奇數和結果是 625\n"
          ]
        }
      ]
    },
    {
      "cell_type": "code",
      "source": [
        "n=int(input(\"請輸入正整數：\"))\n",
        "for i in range(n,0,-1):\n",
        "    for j in range(i,0,-1):\n",
        "      print(\"*\",end=\"\")\n",
        "    print()"
      ],
      "metadata": {
        "colab": {
          "base_uri": "https://localhost:8080/"
        },
        "id": "NwRPp2ViMRTA",
        "outputId": "e4173af8-357e-4cd0-f948-51351f49f4aa"
      },
      "execution_count": null,
      "outputs": [
        {
          "output_type": "stream",
          "name": "stdout",
          "text": [
            "請輸入正整數：7\n",
            "*******\n",
            "******\n",
            "*****\n",
            "****\n",
            "***\n",
            "**\n",
            "*\n"
          ]
        }
      ]
    },
    {
      "cell_type": "code",
      "source": [
        "n=int(input(\"請輸入正整數：\"))\n",
        "for i in range(n,0,-1):\n",
        "    for j in range(i,0,-1):\n",
        "      print(\"*\",end=\"\")\n",
        "    print()"
      ],
      "metadata": {
        "colab": {
          "base_uri": "https://localhost:8080/"
        },
        "id": "sH2Ae88uMRdS",
        "outputId": "1ee12ce7-6439-43f2-faaf-3e4a70bc59b8"
      },
      "execution_count": null,
      "outputs": [
        {
          "output_type": "stream",
          "name": "stdout",
          "text": [
            "請輸入正整數：5\n",
            "*****\n",
            "****\n",
            "***\n",
            "**\n",
            "*\n"
          ]
        }
      ]
    },
    {
      "cell_type": "code",
      "source": [
        "sum=0\n",
        "for i in range(1,101):\n",
        "    if (i %3==0 or i%7==0):\n",
        "        sum+=i\n",
        "print(\"數值1～100中,所有是3或7倍數的數的總和=\" +str(sum))"
      ],
      "metadata": {
        "colab": {
          "base_uri": "https://localhost:8080/"
        },
        "id": "aPbxBZL8PXFh",
        "outputId": "8ad1d89e-cf50-4a50-affb-fe45da16609c"
      },
      "execution_count": null,
      "outputs": [
        {
          "output_type": "stream",
          "name": "stdout",
          "text": [
            "數值1～100中,所有是3或7倍數的數的總和=2208\n"
          ]
        }
      ]
    },
    {
      "cell_type": "code",
      "source": [
        "n=int(input(\"請輸入正整數：\"))\n",
        "for i in range(2,n):\n",
        "    if i%n==0:\n",
        "      continue\n",
        "      print(str(n)+\"的因數有\"+i)\n",
        "\n",
        "for i in range(2,n):\n",
        "    if n %i==0:\n",
        "      print(str(n)+\"不是質數\")"
      ],
      "metadata": {
        "colab": {
          "base_uri": "https://localhost:8080/"
        },
        "id": "oZ7LICxrPXJB",
        "outputId": "3b8ae847-47a7-4147-8ea2-a0d863ece6c4"
      },
      "execution_count": null,
      "outputs": [
        {
          "output_type": "stream",
          "name": "stdout",
          "text": [
            "請輸入正整數：12\n",
            "12不是質數12不是質數12不是質數12不是質數"
          ]
        }
      ]
    },
    {
      "cell_type": "code",
      "source": [
        ""
      ],
      "metadata": {
        "id": "bBV-53A7Q7h_"
      },
      "execution_count": null,
      "outputs": []
    },
    {
      "cell_type": "code",
      "source": [
        ""
      ],
      "metadata": {
        "id": "ADjsaddwQ7s8"
      },
      "execution_count": null,
      "outputs": []
    },
    {
      "cell_type": "code",
      "source": [
        ""
      ],
      "metadata": {
        "id": "-7qV6jqBQ74X"
      },
      "execution_count": null,
      "outputs": []
    },
    {
      "cell_type": "code",
      "source": [
        ""
      ],
      "metadata": {
        "id": "ZaTZFSuTPXLY"
      },
      "execution_count": null,
      "outputs": []
    }
  ]
}